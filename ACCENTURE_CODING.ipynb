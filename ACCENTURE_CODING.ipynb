{
  "nbformat": 4,
  "nbformat_minor": 0,
  "metadata": {
    "colab": {
      "provenance": [],
      "authorship_tag": "ABX9TyO+LSqjOFy3LIHmbvYY+U4M",
      "include_colab_link": true
    },
    "kernelspec": {
      "name": "python3",
      "display_name": "Python 3"
    },
    "language_info": {
      "name": "python"
    }
  },
  "cells": [
    {
      "cell_type": "markdown",
      "metadata": {
        "id": "view-in-github",
        "colab_type": "text"
      },
      "source": [
        "<a href=\"https://colab.research.google.com/github/21JN1A4215/FMML-MODULES/blob/main/ACCENTURE_CODING.ipynb\" target=\"_parent\"><img src=\"https://colab.research.google.com/assets/colab-badge.svg\" alt=\"Open In Colab\"/></a>"
      ]
    },
    {
      "cell_type": "markdown",
      "source": [
        "POSITIVE AND NEGATIVE NUMBER:"
      ],
      "metadata": {
        "id": "INqjMzBc-WMZ"
      }
    },
    {
      "cell_type": "code",
      "source": [
        "num=15\n",
        "if num>0:\n",
        "  print('positive')\n",
        "elif num<0:\n",
        "  print('negative')\n",
        "else:\n",
        "  print('zero')"
      ],
      "metadata": {
        "colab": {
          "base_uri": "https://localhost:8080/"
        },
        "id": "gOIgT2u--gT4",
        "outputId": "950afbd1-b482-49ad-82cb-751c91757f74"
      },
      "execution_count": null,
      "outputs": [
        {
          "output_type": "stream",
          "name": "stdout",
          "text": [
            "positive\n"
          ]
        }
      ]
    },
    {
      "cell_type": "markdown",
      "source": [
        "EVEN OR ODD NUMBER:"
      ],
      "metadata": {
        "id": "fSN8vRJh_zfy"
      }
    },
    {
      "cell_type": "code",
      "source": [
        "num=15\n",
        "if num%2==0:\n",
        "  print('even')\n",
        "else:\n",
        "  print('odd')"
      ],
      "metadata": {
        "colab": {
          "base_uri": "https://localhost:8080/"
        },
        "id": "n4GK9zKJ_8py",
        "outputId": "461f555d-6e36-4874-c9dd-13e93255f608"
      },
      "execution_count": null,
      "outputs": [
        {
          "output_type": "stream",
          "name": "stdout",
          "text": [
            "odd\n"
          ]
        }
      ]
    },
    {
      "cell_type": "markdown",
      "source": [
        "REVERSE A STRING:"
      ],
      "metadata": {
        "id": "ScxJZdWwBCTU"
      }
    },
    {
      "cell_type": "code",
      "source": [
        "str=input()\n",
        "words=str.split()\n",
        "rev_words=words[::-1]\n",
        "print(\" \".join(rev_words))"
      ],
      "metadata": {
        "colab": {
          "base_uri": "https://localhost:8080/"
        },
        "id": "G2qQHCI5BA9F",
        "outputId": "e4bca112-f980-46fe-9652-e3afb8c27ed4"
      },
      "execution_count": null,
      "outputs": [
        {
          "output_type": "stream",
          "name": "stdout",
          "text": [
            "welcome to sunday samayal\n",
            "samayal sunday to welcome\n"
          ]
        }
      ]
    },
    {
      "cell_type": "markdown",
      "source": [
        "rat food question:"
      ],
      "metadata": {
        "id": "6dP5sjHlFveR"
      }
    },
    {
      "cell_type": "code",
      "source": [
        "def calcuate(r,unit,arr,n):\n",
        "  if n==0:\n",
        "    return-1\n",
        "  totalFoodRequired = r*unit\n",
        "  foodTillNow=0\n",
        "  for house in range(n):\n",
        "    foodTillNow+=arr[house]\n",
        "    if foodTillNow>=totalFoodRequired:\n",
        "      return house+1\n",
        "  return 0\n",
        "r=int(input())\n",
        "unit=int(input())\n",
        "n=int(input())\n",
        "arr=list(map(int,input().split()))\n",
        "\n",
        "print(calcuate(r=r,unit=unit,arr=arr,n=n))\n",
        "\n"
      ],
      "metadata": {
        "colab": {
          "base_uri": "https://localhost:8080/"
        },
        "id": "6PAiSlePF1ZO",
        "outputId": "6563b088-ecc3-427f-f110-6900cf7b1ea6"
      },
      "execution_count": null,
      "outputs": [
        {
          "output_type": "stream",
          "name": "stdout",
          "text": [
            "7\n",
            "2\n",
            "8\n",
            "2 8 3 5 7 4 1 2\n",
            "4\n"
          ]
        }
      ]
    },
    {
      "cell_type": "code",
      "source": [
        "str=input()\n",
        "count=0\n",
        "string=\" \"\n",
        "for i in str:\n",
        "   if i==\"_\":\n",
        "      count+=1\n",
        "   else:\n",
        "     string+=i\n",
        "print(\"_\" *count+string)\n"
      ],
      "metadata": {
        "id": "-AGxNCh1xNbw",
        "colab": {
          "base_uri": "https://localhost:8080/"
        },
        "outputId": "f39e9ccd-308d-497c-ec73-fddd8f82cc16"
      },
      "execution_count": null,
      "outputs": [
        {
          "output_type": "stream",
          "name": "stdout",
          "text": [
            "indra_ni\n",
            "_ indrani\n"
          ]
        }
      ]
    },
    {
      "cell_type": "markdown",
      "source": [
        "Leap Year Program"
      ],
      "metadata": {
        "id": "_FfxZHb-CYCU"
      }
    },
    {
      "cell_type": "code",
      "source": [
        "year=2000\n",
        "if (year%4000==0)or(year%4==0and year%100!=0):\n",
        "  print(\"Leap year\")\n",
        "else:\n",
        "  print(\"Not leap year\")"
      ],
      "metadata": {
        "colab": {
          "base_uri": "https://localhost:8080/"
        },
        "id": "_RLxI_4YC91I",
        "outputId": "8ce62975-bdba-427b-c162-814274bfec7d"
      },
      "execution_count": null,
      "outputs": [
        {
          "output_type": "stream",
          "name": "stdout",
          "text": [
            "Not leap year\n"
          ]
        }
      ]
    },
    {
      "cell_type": "markdown",
      "source": [
        "Prime Number\n"
      ],
      "metadata": {
        "id": "jaheEvpmPVHz"
      }
    },
    {
      "cell_type": "code",
      "source": [
        "num=15\n",
        "flag=0\n",
        "for i in range(2,num):\n",
        "  if num%i==0:\n",
        "    flag=1\n",
        "    break\n",
        "if flag==1:\n",
        "    print(\"Not prime\")\n",
        "else:\n",
        "    print(\"prime\")"
      ],
      "metadata": {
        "id": "udn2Wvo7PXSS",
        "colab": {
          "base_uri": "https://localhost:8080/"
        },
        "outputId": "fc63d87f-21e5-4ddb-9d20-70413c160f1e"
      },
      "execution_count": 6,
      "outputs": [
        {
          "output_type": "stream",
          "name": "stdout",
          "text": [
            "Not prime\n"
          ]
        }
      ]
    }
  ]
}